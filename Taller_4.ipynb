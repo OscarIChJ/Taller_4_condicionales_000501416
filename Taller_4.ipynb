{
  "nbformat": 4,
  "nbformat_minor": 0,
  "metadata": {
    "colab": {
      "provenance": [],
      "authorship_tag": "ABX9TyObSJSWejGU5AfqelqpfOIU",
      "include_colab_link": true
    },
    "kernelspec": {
      "name": "python3",
      "display_name": "Python 3"
    },
    "language_info": {
      "name": "python"
    }
  },
  "cells": [
    {
      "cell_type": "markdown",
      "metadata": {
        "id": "view-in-github",
        "colab_type": "text"
      },
      "source": [
        "<a href=\"https://colab.research.google.com/github/OscarIChJ/Taller_4_condicionales_000501416/blob/main/Taller_4.ipynb\" target=\"_parent\"><img src=\"https://colab.research.google.com/assets/colab-badge.svg\" alt=\"Open In Colab\"/></a>"
      ]
    },
    {
      "cell_type": "markdown",
      "source": [
        "#Problema 1\n"
      ],
      "metadata": {
        "id": "U4uZF6OAgFu0"
      }
    },
    {
      "cell_type": "code",
      "execution_count": 4,
      "metadata": {
        "colab": {
          "base_uri": "https://localhost:8080/"
        },
        "id": "IviIxfzjcnTx",
        "outputId": "b5468c8f-caf9-49bd-fd58-71d3fa96c311"
      },
      "outputs": [
        {
          "output_type": "stream",
          "name": "stdout",
          "text": [
            "Ingrese una calificacion de ( 0 a 5)4\n",
            "el estudinte aprobo\n"
          ]
        }
      ],
      "source": [
        "calificacion = float(input(\"Ingrese una calificacion de ( 0 a 5)\"))\n",
        "if calificacion >= 0 and calificacion <= 5:\n",
        "  if calificacion >=3:\n",
        "     print(\"el estudinte aprobo\")\n",
        "else:\n",
        " print(\"el estudiante reprobo\")\n",
        "\n",
        "\n"
      ]
    },
    {
      "cell_type": "markdown",
      "source": [
        "#Problema 2\n"
      ],
      "metadata": {
        "id": "ief4YXV9f63j"
      }
    },
    {
      "cell_type": "code",
      "source": [
        "Numero = float(input(\"Ingrese un numero\"))\n",
        "if Numero > 0:\n",
        " print(\"El numero ingresado es positivo\")\n",
        "else:\n",
        " print(\"el numero ingresado es cero\")\n",
        "\n",
        "\n",
        ""
      ],
      "metadata": {
        "colab": {
          "base_uri": "https://localhost:8080/"
        },
        "id": "lKJOr7BvjGH9",
        "outputId": "ae4d9aaf-f7b9-4510-91b6-46ca01217814"
      },
      "execution_count": 10,
      "outputs": [
        {
          "output_type": "stream",
          "name": "stdout",
          "text": [
            "Ingrese un numero9\n",
            "El numero ingresado es positivo\n"
          ]
        }
      ]
    },
    {
      "cell_type": "markdown",
      "source": [
        "#Problema 3\n"
      ],
      "metadata": {
        "id": "5LiCW3kanwu_"
      }
    },
    {
      "cell_type": "code",
      "source": [
        "Contraseña = input(\"Ingresar una contraseña\")\n",
        "if Contraseña == \"Oscarchima22\":\n",
        " print(\"contraseña ingresada correcta\")\n",
        "else:\n",
        " print(\"contraseña ingresada incorrecta\" )\n"
      ],
      "metadata": {
        "colab": {
          "base_uri": "https://localhost:8080/"
        },
        "id": "fDYW8g_slI00",
        "outputId": "93c2baa7-9308-4f25-f5ec-79ca13223ccf"
      },
      "execution_count": 18,
      "outputs": [
        {
          "output_type": "stream",
          "name": "stdout",
          "text": [
            "Ingresar una contraseñaPython123\n",
            "contraseña ingresada incorrecta\n"
          ]
        }
      ]
    },
    {
      "cell_type": "markdown",
      "source": [
        "#Problema 4"
      ],
      "metadata": {
        "id": "jy0xyAFkrY7v"
      }
    },
    {
      "cell_type": "code",
      "source": [
        "Numero = float(input(\"ingresar un numero\"))\n",
        "#vericar si el numero es par o impar\n",
        "if Numero %4 == 0:\n",
        "  print(\"el numeroes par\")\n",
        "else:\n",
        "  print(\"el numero es impar\")\n",
        ""
      ],
      "metadata": {
        "colab": {
          "base_uri": "https://localhost:8080/"
        },
        "id": "4u0Rm3efqJEk",
        "outputId": "53faf6ef-e060-4ca0-ddd2-35a95eb2f462"
      },
      "execution_count": 24,
      "outputs": [
        {
          "output_type": "stream",
          "name": "stdout",
          "text": [
            "ingresar un numero24\n",
            "el numeroes par\n"
          ]
        }
      ]
    },
    {
      "cell_type": "markdown",
      "source": [
        "#Problema 5\n"
      ],
      "metadata": {
        "id": "Aa3oABpmuBL_"
      }
    },
    {
      "cell_type": "code",
      "source": [],
      "metadata": {
        "id": "eos2g1Kftzj9"
      },
      "execution_count": null,
      "outputs": []
    }
  ]
}